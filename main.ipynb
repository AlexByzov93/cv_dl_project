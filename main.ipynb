{
  "nbformat": 4,
  "nbformat_minor": 0,
  "metadata": {
    "colab": {
      "name": "Byzov A - Final Project.ipynb",
      "provenance": [],
      "authorship_tag": "ABX9TyPythj+JZSG0EtzjRcJOdL6",
      "include_colab_link": true
    },
    "kernelspec": {
      "name": "python3",
      "display_name": "Python 3"
    },
    "language_info": {
      "name": "python"
    }
  },
  "cells": [
    {
      "cell_type": "markdown",
      "metadata": {
        "id": "view-in-github",
        "colab_type": "text"
      },
      "source": [
        "<a href=\"https://colab.research.google.com/github/AlexByzov93/cv_dl_project/blob/main/main.ipynb\" target=\"_parent\"><img src=\"https://colab.research.google.com/assets/colab-badge.svg\" alt=\"Open In Colab\"/></a>"
      ]
    },
    {
      "cell_type": "markdown",
      "source": [
        "# Deep Sort Implementation\n",
        "\n",
        "This notebook is dedicated to implementation of deep sort algorithm from [the original repository](https://github.com/nwojke/deep_sort). This implementation will be subjected to several changes during this project:\n",
        "\n",
        "- Adding 3 additional detectors\n",
        "- Adding 3 additional REID algorithms\n",
        "- Adding 1 additional segmentation algorithm\n",
        "\n",
        "This algorithm will be checked on the following data from MOT challenge:\n",
        "\n",
        "- TUD-Campus\n",
        "- TUD-Stadtmitte\n",
        "- KITTI-17\n",
        "- PETS09-S2L1 from MOT15\n",
        "- MOT16-09, MOT16-11 from MOT16\n",
        "\n",
        "Since one of the requirements of the project is to implement it in the Google Colab Notebook"
      ],
      "metadata": {
        "id": "T4GpRq1k941p"
      }
    },
    {
      "cell_type": "code",
      "execution_count": null,
      "metadata": {
        "id": "cRKbLbts94Bb"
      },
      "outputs": [],
      "source": [
        ""
      ]
    }
  ]
}